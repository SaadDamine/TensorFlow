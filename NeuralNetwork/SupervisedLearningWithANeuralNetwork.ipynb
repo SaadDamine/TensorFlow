{
  "nbformat": 4,
  "nbformat_minor": 0,
  "metadata": {
    "colab": {
      "name": "SupervisedLearningWithANeuralNetwork.ipynb",
      "provenance": [],
      "authorship_tag": "ABX9TyNMgsdRy64EMjgCSJcnkWE3",
      "include_colab_link": true
    },
    "kernelspec": {
      "name": "python3",
      "display_name": "Python 3"
    },
    "accelerator": "GPU"
  },
  "cells": [
    {
      "cell_type": "markdown",
      "metadata": {
        "id": "view-in-github",
        "colab_type": "text"
      },
      "source": [
        "<a href=\"https://colab.research.google.com/github/SaadDamine/TensorFlow/blob/master/NeuralNetwork/SupervisedLearningWithANeuralNetwork.ipynb\" target=\"_parent\"><img src=\"https://colab.research.google.com/assets/colab-badge.svg\" alt=\"Open In Colab\"/></a>"
      ]
    },
    {
      "cell_type": "code",
      "metadata": {
        "id": "SxZbzGaMpBVf",
        "colab_type": "code",
        "colab": {}
      },
      "source": [
        "import numpy"
      ],
      "execution_count": 0,
      "outputs": []
    },
    {
      "cell_type": "code",
      "metadata": {
        "id": "aURgKH1-7w6o",
        "colab_type": "code",
        "colab": {}
      },
      "source": [
        "def NN(m1,m2,w1,w2,b):\n",
        "  return sigmoid(m1*w1+m2*w2+b)\n",
        "\n",
        "def sigmoid(x):\n",
        "  return 1/(1+numpy.exp(-x))\n",
        "\n",
        "//cost function, \n",
        "def cost(b):\n",
        "  return (b-4) ** 2\n",
        "//find the derivative numerically first:\n",
        "def num_slope(b):\n",
        "  h=0.0001\n",
        "  return (cost(b+h)-cost(b))/h\n",
        "//define it the way we'll ultimately use\n",
        "def slope(b):\n",
        "  return 2 * (b-4)"
      ],
      "execution_count": 0,
      "outputs": []
    },
    {
      "cell_type": "code",
      "metadata": {
        "id": "XC5bhuQv8bP_",
        "colab_type": "code",
        "colab": {}
      },
      "source": [
        "w1=numpy.random.randn()\n",
        "w2=numpy.random.randn()\n",
        "b=numpy.random.randn()"
      ],
      "execution_count": 0,
      "outputs": []
    },
    {
      "cell_type": "code",
      "metadata": {
        "id": "WuQZ47Rp8qC8",
        "colab_type": "code",
        "colab": {
          "base_uri": "https://localhost:8080/",
          "height": 34
        },
        "outputId": "2392dd8a-e9e3-477f-88fa-3977727ac3a7"
      },
      "source": [
        "w1,w2,b"
      ],
      "execution_count": 24,
      "outputs": [
        {
          "output_type": "execute_result",
          "data": {
            "text/plain": [
              "(0.0019300745114838279, 0.7016909202819498, -0.30422505278110634)"
            ]
          },
          "metadata": {
            "tags": []
          },
          "execution_count": 24
        }
      ]
    },
    {
      "cell_type": "code",
      "metadata": {
        "id": "bViHcC-U8u5u",
        "colab_type": "code",
        "colab": {
          "base_uri": "https://localhost:8080/",
          "height": 119
        },
        "outputId": "a1ff3cdf-2f83-497f-c86f-bda4e167e97d"
      },
      "source": [
        "NN(3,1.5,w1,w2,b),NN(2,1,w1,w2,b),num_slope(3),num_slope(5),slope(3),slope(5)"
      ],
      "execution_count": 43,
      "outputs": [
        {
          "output_type": "execute_result",
          "data": {
            "text/plain": [
              "(0.6800717490795548,\n",
              " 0.5990062080989955,\n",
              " -1.9999000000037181,\n",
              " 2.000099999994731,\n",
              " -2,\n",
              " 2)"
            ]
          },
          "metadata": {
            "tags": []
          },
          "execution_count": 43
        }
      ]
    },
    {
      "cell_type": "code",
      "metadata": {
        "id": "V2VEyKnMEwpm",
        "colab_type": "code",
        "colab": {
          "base_uri": "https://localhost:8080/",
          "height": 527
        },
        "outputId": "b2cc8f6b-320b-48af-e998-63a9e7126593"
      },
      "source": [
        "x=6\n",
        "for i in range(30):\n",
        "  x=x-.1*slope(x)\n",
        "  print(x)"
      ],
      "execution_count": 88,
      "outputs": [
        {
          "output_type": "stream",
          "text": [
            "5.6\n",
            "5.279999999999999\n",
            "5.023999999999999\n",
            "4.8191999999999995\n",
            "4.65536\n",
            "4.524288\n",
            "4.4194304\n",
            "4.33554432\n",
            "4.268435456000001\n",
            "4.2147483648\n",
            "4.17179869184\n",
            "4.137438953472\n",
            "4.1099511627776\n",
            "4.08796093022208\n",
            "4.070368744177664\n",
            "4.056294995342131\n",
            "4.045035996273705\n",
            "4.036028797018964\n",
            "4.028823037615171\n",
            "4.023058430092137\n",
            "4.018446744073709\n",
            "4.014757395258967\n",
            "4.011805916207174\n",
            "4.009444732965739\n",
            "4.007555786372591\n",
            "4.0060446290980725\n",
            "4.004835703278458\n",
            "4.003868562622766\n",
            "4.003094850098213\n",
            "4.0024758800785705\n"
          ],
          "name": "stdout"
        }
      ]
    }
  ]
}